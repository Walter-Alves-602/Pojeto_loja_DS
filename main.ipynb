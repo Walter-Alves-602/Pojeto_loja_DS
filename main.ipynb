{
 "cells": [
  {
   "cell_type": "markdown",
   "metadata": {},
   "source": [
    "# Projeto final de Data Science da Infinity  \n",
    "> aluno: Walter Alves da Silva  \n",
    ">link do dataset https://www.kaggle.com/datasets/mohammadtalib786/retail-sales-dataset"
   ]
  },
  {
   "cell_type": "markdown",
   "metadata": {},
   "source": [
    "## import de bibilhotecas e dados"
   ]
  },
  {
   "cell_type": "code",
   "execution_count": null,
   "metadata": {},
   "outputs": [],
   "source": [
    "import pandas as pd\n",
    "import matplotlib.pyplot as plt\n",
    "import warnings\n",
    "warnings.filterwarnings('ignore')"
   ]
  },
  {
   "cell_type": "code",
   "execution_count": null,
   "metadata": {},
   "outputs": [],
   "source": [
    "df = pd.read_csv('retail_sales_dataset.csv')\n",
    "df.head()"
   ]
  },
  {
   "cell_type": "markdown",
   "metadata": {},
   "source": [
    "## limpeza de dados"
   ]
  },
  {
   "cell_type": "markdown",
   "metadata": {},
   "source": [
    "### limpesa de dados desnescesarios"
   ]
  },
  {
   "cell_type": "code",
   "execution_count": null,
   "metadata": {},
   "outputs": [],
   "source": [
    "df.info()"
   ]
  },
  {
   "cell_type": "code",
   "execution_count": null,
   "metadata": {},
   "outputs": [],
   "source": [
    "df.describe()"
   ]
  },
  {
   "cell_type": "code",
   "execution_count": null,
   "metadata": {},
   "outputs": [],
   "source": [
    "df.drop_duplicates(inplace=True)"
   ]
  },
  {
   "cell_type": "code",
   "execution_count": null,
   "metadata": {},
   "outputs": [],
   "source": [
    "df.drop(['Transaction ID','Customer ID'], axis=1, inplace=True)"
   ]
  },
  {
   "cell_type": "code",
   "execution_count": null,
   "metadata": {},
   "outputs": [],
   "source": [
    "df.info()"
   ]
  },
  {
   "cell_type": "markdown",
   "metadata": {},
   "source": [
    "### engenharia de caracteristicas"
   ]
  },
  {
   "cell_type": "markdown",
   "metadata": {},
   "source": [
    "#### Convertendo generos para binario"
   ]
  },
  {
   "cell_type": "code",
   "execution_count": null,
   "metadata": {},
   "outputs": [],
   "source": [
    "df['Gender'].unique()"
   ]
  },
  {
   "cell_type": "code",
   "execution_count": null,
   "metadata": {},
   "outputs": [],
   "source": [
    "gender = {'Male': 1,'Female': 0}\n",
    "df.Gender = [gender[item] for item in df.Gender]\n",
    "df.head()"
   ]
  },
  {
   "cell_type": "markdown",
   "metadata": {},
   "source": [
    "#### convertendo a coluna Data para o formato data e depois para dia do ano "
   ]
  },
  {
   "cell_type": "code",
   "execution_count": null,
   "metadata": {},
   "outputs": [],
   "source": [
    "df['Date'].unique()"
   ]
  },
  {
   "cell_type": "code",
   "execution_count": null,
   "metadata": {},
   "outputs": [],
   "source": [
    "df['Date'] = pd.to_datetime(df['Date'], format='%Y-%m-%d')"
   ]
  },
  {
   "cell_type": "code",
   "execution_count": null,
   "metadata": {},
   "outputs": [],
   "source": [
    "df.info()"
   ]
  },
  {
   "cell_type": "code",
   "execution_count": null,
   "metadata": {},
   "outputs": [],
   "source": [
    "df[\"Date\"] = df['Date'].apply(lambda x:x.dayofyear)\n",
    "df.head()"
   ]
  },
  {
   "cell_type": "markdown",
   "metadata": {},
   "source": [
    "considerando que se trata de dataset de compras, é de se esperar um padrão de repetição anual,  \n",
    "por isso decidi converter a data para dia do ano, outro fator que me fez tomar a decisão  \n",
    "é o fato de que todos os dados são do mesmo ano."
   ]
  },
  {
   "cell_type": "markdown",
   "metadata": {},
   "source": [
    "### regularizando variaveis categoricas"
   ]
  },
  {
   "cell_type": "code",
   "execution_count": null,
   "metadata": {},
   "outputs": [],
   "source": [
    "from sklearn.preprocessing import OneHotEncoder\n",
    "\n",
    "#Extract categorical columns from the dataframe\n",
    "#Here we extract the columns with object datatype as they are the categorical columns\n",
    "categorical_columns = df.select_dtypes(include=['object']).columns.tolist()\n",
    "\n",
    "#Initialize OneHotEncoder\n",
    "encoder = OneHotEncoder(sparse_output=False)\n",
    "\n",
    "# Apply one-hot encoding to the categorical columns\n",
    "one_hot_encoded = encoder.fit_transform(df[categorical_columns])\n",
    "\n",
    "#Create a DataFrame with the one-hot encoded columns\n",
    "#We use get_feature_names_out() to get the column names for the encoded data\n",
    "one_hot_df = pd.DataFrame(one_hot_encoded, columns=encoder.get_feature_names_out(categorical_columns))\n",
    "\n",
    "# Concatenate the one-hot encoded dataframe with the original dataframe\n",
    "df = pd.concat([df, one_hot_df], axis=1)\n",
    "\n",
    "# Drop the original categorical columns\n",
    "df = df.drop(categorical_columns, axis=1)\n",
    "\n",
    "df\n"
   ]
  },
  {
   "cell_type": "markdown",
   "metadata": {},
   "source": [
    "usando o OneHotEncoder para separar as categorias de produtos em colunas binarias, dessa forma posso usar para treinar um modelo  \n",
    "fonte: https://www.geeksforgeeks.org/ml-one-hot-encoding/"
   ]
  },
  {
   "cell_type": "markdown",
   "metadata": {},
   "source": [
    "## analise exploratoria"
   ]
  },
  {
   "cell_type": "markdown",
   "metadata": {},
   "source": [
    "### funçoes para plot"
   ]
  },
  {
   "cell_type": "code",
   "execution_count": null,
   "metadata": {},
   "outputs": [],
   "source": [
    "def grafico_pizza(agrupadora:str, agrupada:str, nomes: list, titulo:str):\n",
    "    \"\"\"tem a função de criar um grafico pizza\n",
    "\n",
    "    Args:\n",
    "        agrupadora (str): coluna que vai ser as categorias\n",
    "        agrupada (str): valores da categoria\n",
    "        nomes (list): labels das categorias\n",
    "        titulo (str): titulo do grafico\n",
    "    \"\"\"\n",
    "    df_por_genero = df[[agrupadora, agrupada]]\n",
    "    df_por_genero = df_por_genero.groupby(agrupadora, as_index=False).sum()\n",
    "\n",
    "    # Extraindo as séries de categoria e valor\n",
    "    categorias = df_por_genero[agrupadora].to_numpy()\n",
    "    valores = df_por_genero[agrupada].to_numpy()\n",
    "\n",
    "    # Criando o gráfico de pizza\n",
    "    plt.figure(figsize=(2, 2))  # Definindo o tamanho do gráfico\n",
    "    plt.pie(\n",
    "        valores, labels=nomes, autopct=\"%1.1f%%\", startangle=90\n",
    "    )  # Criando o gráfico\n",
    "    plt.title(titulo)  # Título do gráfico\n",
    "    plt.axis(\"equal\")  # Garantindo que o gráfico seja circular\n",
    "    # Mostrando o gráfico\n",
    "    plt.show()"
   ]
  },
  {
   "cell_type": "code",
   "execution_count": null,
   "metadata": {},
   "outputs": [],
   "source": [
    "def grafico_linha(x:str,y:str,titulo:str):\n",
    "    \"\"\"_summary_\n",
    "\n",
    "    Args:\n",
    "        x (str): eixo X\n",
    "        y (str):eixo Y\n",
    "        titulo (str): titulo do grafico\n",
    "    \"\"\"\n",
    "    df_graf = df[[x,y]]\n",
    "    df_graf = df_graf.groupby(x,as_index=False).sum()\n",
    "\n",
    "    x = df_graf[x]\n",
    "    y = df_graf[y]\n",
    "\n",
    "    plt.figure(figsize=(15, 6))  \n",
    "    plt.plot(x, y, linestyle='-') \n",
    "    plt.title(titulo)\n",
    "    plt.xlabel(x)\n",
    "    plt.ylabel(y)\n",
    "    plt.grid(True)\n",
    "\n",
    "    plt.xticks(rotation=45) \n",
    "\n",
    "    plt.tight_layout()\n",
    "    plt.show()"
   ]
  },
  {
   "cell_type": "markdown",
   "metadata": {},
   "source": [
    "### grafico valor Total X Dia"
   ]
  },
  {
   "cell_type": "code",
   "execution_count": null,
   "metadata": {},
   "outputs": [],
   "source": [
    "df_por_data = df[['Date','Total Amount']]\n",
    "df_por_data = df_por_data.groupby('Date',as_index=False).sum()\n",
    "df_por_data.head()\n"
   ]
  },
  {
   "cell_type": "code",
   "execution_count": null,
   "metadata": {},
   "outputs": [],
   "source": [
    "# Extraindo as séries de data e venda\n",
    "datas = df_por_data[\"Date\"]\n",
    "vendas = df_por_data[\"Total Amount\"]\n",
    "\n",
    "# Criando o gráfico de linhas\n",
    "plt.figure(figsize=(15, 6))  # Definindo o tamanho do gráfico\n",
    "plt.plot(datas, vendas, linestyle='-')  # Criando a linha e definindo estilo\n",
    "plt.title(\"Vendas por Dia do Ano\")  # Título do gráfico\n",
    "plt.xlabel(\"genero\")  # Rótulo do eixo X\n",
    "plt.ylabel(\"Valor da Venda\")  # Rótulo do eixo Y\n",
    "plt.grid(True)  # Exibindo grid no gráfico\n",
    "\n",
    "# Formatando as datas no eixo X\n",
    "plt.xticks(rotation=45)  # Rotacionando os rótulos das datas para melhor visualização\n",
    "\n",
    "# Mostrando o gráfico\n",
    "plt.tight_layout()\n",
    "plt.show()"
   ]
  },
  {
   "cell_type": "markdown",
   "metadata": {},
   "source": [
    "não é notado um padrão de compra, provavelmente isso se da ao fato de ser um dataset ficticio"
   ]
  },
  {
   "cell_type": "markdown",
   "metadata": {},
   "source": [
    "### venda por genero"
   ]
  },
  {
   "cell_type": "code",
   "execution_count": null,
   "metadata": {},
   "outputs": [],
   "source": [
    "df_por_genero = df[['Gender','Total Amount']]\n",
    "df_por_genero = df_por_genero.groupby('Gender',as_index=False).sum()\n",
    "df_por_genero.head()\n",
    "\n",
    "# Extraindo as séries de categoria e valor\n",
    "categorias = df_por_genero[\"Gender\"].to_numpy()\n",
    "valores = df_por_genero[\"Total Amount\"].to_numpy()\n",
    "\n",
    "# Criando o gráfico de pizza\n",
    "plt.figure(figsize=(2, 2))  # Definindo o tamanho do gráfico\n",
    "plt.pie(valores, labels=['feminino','masculino'], autopct=\"%1.1f%%\", startangle=90)  # Criando o gráfico\n",
    "plt.title(\"Distribuição por genero\")  # Título do gráfico\n",
    "plt.axis('equal')  # Garantindo que o gráfico seja circular\n",
    "\n",
    "# Mostrando o gráfico\n",
    "plt.show()"
   ]
  },
  {
   "cell_type": "markdown",
   "metadata": {},
   "source": [
    "as vendas variam em 2,2% entre os generos, ao meu ver não é uma diferença consideravel, e o fato de ser um dataset artificial pode ter influenciado"
   ]
  },
  {
   "cell_type": "markdown",
   "metadata": {},
   "source": [
    "### grafico idade X venda"
   ]
  },
  {
   "cell_type": "code",
   "execution_count": null,
   "metadata": {},
   "outputs": [],
   "source": [
    "df_por_data = df[['Age','Total Amount']]\n",
    "df_por_data = df_por_data.groupby('Age',as_index=False).sum()\n",
    "df_por_data.head()\n",
    "\n",
    "x = df_por_data[\"Age\"]\n",
    "y = df_por_data[\"Total Amount\"]\n",
    "\n",
    "plt.figure(figsize=(15, 6))  \n",
    "plt.plot(x, y, linestyle='-') \n",
    "plt.title(\"Vendas por Idade\")\n",
    "plt.xlabel(\"Idade\")\n",
    "plt.ylabel(\"Valor da Venda\")\n",
    "plt.grid(True)\n",
    "\n",
    "plt.xticks(rotation=45) \n",
    "\n",
    "plt.tight_layout()\n",
    "plt.show()"
   ]
  },
  {
   "cell_type": "markdown",
   "metadata": {},
   "source": [
    "novamente nenhum padrão, esse dataset é muito sintetico, sera possivel treinar um modelo?'"
   ]
  },
  {
   "cell_type": "markdown",
   "metadata": {},
   "source": [
    "### genero por categoria"
   ]
  },
  {
   "cell_type": "code",
   "execution_count": null,
   "metadata": {},
   "outputs": [],
   "source": [
    "df.columns"
   ]
  },
  {
   "cell_type": "code",
   "execution_count": null,
   "metadata": {},
   "outputs": [],
   "source": [
    "df_por_data = df[\n",
    "    [\n",
    "        \"Gender\",\n",
    "        \"Total Amount\",\n",
    "        \"Product Category_Beauty\",\n",
    "        \"Product Category_Clothing\",\n",
    "        \"Product Category_Electronics\",\n",
    "    ]\n",
    "]\n",
    "df_por_data = df_por_data.groupby(\"Gender\", as_index=False).sum()\n",
    "df_por_data"
   ]
  },
  {
   "cell_type": "code",
   "execution_count": null,
   "metadata": {},
   "outputs": [],
   "source": [
    "grafico_pizza('Gender','Product Category_Beauty',['feminino','masculino'], 'Genero, produto de beleza')"
   ]
  },
  {
   "cell_type": "markdown",
   "metadata": {},
   "source": [
    "notorio que as mulheres compram mais produtos de beleza, como esperado"
   ]
  },
  {
   "cell_type": "code",
   "execution_count": null,
   "metadata": {},
   "outputs": [],
   "source": [
    "grafico_pizza('Gender','Product Category_Clothing',['feminino','masculino'], 'Genero x roupa')"
   ]
  },
  {
   "cell_type": "code",
   "execution_count": null,
   "metadata": {},
   "outputs": [],
   "source": [
    "grafico_pizza('Gender','Product Category_Electronics',['feminino','masculino'], 'Genero X eletronico')"
   ]
  },
  {
   "cell_type": "markdown",
   "metadata": {},
   "source": [
    "### idade X categoria"
   ]
  },
  {
   "cell_type": "code",
   "execution_count": null,
   "metadata": {},
   "outputs": [],
   "source": [
    "for categoria in ['Product Category_Beauty', 'Product Category_Clothing','Product Category_Electronics']:\n",
    "    grafico_linha('Age',categoria,f'Idade x {categoria}')"
   ]
  },
  {
   "cell_type": "markdown",
   "metadata": {},
   "source": [
    "nenhum padrão observado"
   ]
  },
  {
   "cell_type": "markdown",
   "metadata": {},
   "source": [
    "### correlação"
   ]
  },
  {
   "cell_type": "code",
   "execution_count": null,
   "metadata": {},
   "outputs": [],
   "source": [
    "import seaborn as sns"
   ]
  },
  {
   "cell_type": "code",
   "execution_count": null,
   "metadata": {},
   "outputs": [],
   "source": [
    "corr_matrix = df.corr()\n",
    "corr_matrix"
   ]
  },
  {
   "cell_type": "code",
   "execution_count": null,
   "metadata": {},
   "outputs": [],
   "source": [
    "sns.heatmap(corr_matrix, annot = True, cmap = 'coolwarm', vmin = -1, vmax = 1)\n",
    "plt.show()"
   ]
  },
  {
   "cell_type": "markdown",
   "metadata": {},
   "source": [
    "### resumo"
   ]
  },
  {
   "cell_type": "markdown",
   "metadata": {},
   "source": [
    "considerando as informaçoes extraidads dos graficos notase que não é possivel obter uma corelação entre os valores   \n",
    "exceto genetro por venda de produto de beleza."
   ]
  },
  {
   "cell_type": "markdown",
   "metadata": {},
   "source": [
    "## modelo Machine Learning"
   ]
  },
  {
   "cell_type": "markdown",
   "metadata": {},
   "source": [
    "### import e escalonamento"
   ]
  },
  {
   "cell_type": "code",
   "execution_count": null,
   "metadata": {},
   "outputs": [],
   "source": [
    "from sklearn.preprocessing import StandardScaler\n",
    "from sklearn.linear_model import LinearRegression\n",
    "from sklearn.model_selection import train_test_split\n",
    "from sklearn.linear_model import Perceptron\n",
    "from sklearn.metrics import accuracy_score\n",
    "from sklearn.metrics import mean_squared_error"
   ]
  },
  {
   "cell_type": "code",
   "execution_count": null,
   "metadata": {},
   "outputs": [],
   "source": [
    "x = df.drop(columns = [ 'Quantity', 'Price per Unit', 'Total Amount'])\n",
    "y = df['Total Amount']\n",
    "\n",
    "escalonador = StandardScaler()\n",
    "x_escalonado = escalonador.fit_transform(x)\n",
    "\n",
    "x_treino, x_teste, y_treino, y_teste = train_test_split(x_escalonado, y)\n",
    "\n",
    "# ['Date', 'Gender', 'Age', 'Quantity', 'Price per Unit', 'Total Amount','Product Category_Beauty', 'Product Category_Clothing','Product Category_Electronics']"
   ]
  },
  {
   "cell_type": "markdown",
   "metadata": {},
   "source": [
    "### regressor linear"
   ]
  },
  {
   "cell_type": "code",
   "execution_count": null,
   "metadata": {},
   "outputs": [],
   "source": [
    "regressor = LinearRegression()\n",
    "regressor.fit(x_treino, y_treino)"
   ]
  },
  {
   "cell_type": "code",
   "execution_count": null,
   "metadata": {},
   "outputs": [],
   "source": [
    "previsao = regressor.predict(x_teste)\n",
    "previsao"
   ]
  },
  {
   "cell_type": "code",
   "execution_count": null,
   "metadata": {},
   "outputs": [],
   "source": [
    "mse = mean_squared_error(y_teste, previsao)\n",
    "mse"
   ]
  },
  {
   "cell_type": "markdown",
   "metadata": {},
   "source": [
    "### regressor Perceptron"
   ]
  },
  {
   "cell_type": "code",
   "execution_count": null,
   "metadata": {},
   "outputs": [],
   "source": [
    "regressor = Perceptron()\n",
    "regressor.fit(x_treino, y_treino)"
   ]
  },
  {
   "cell_type": "code",
   "execution_count": null,
   "metadata": {},
   "outputs": [],
   "source": [
    "previsao = regressor.predict(x_teste)\n",
    "previsao"
   ]
  },
  {
   "cell_type": "code",
   "execution_count": null,
   "metadata": {},
   "outputs": [],
   "source": [
    "mse = mean_squared_error(y_teste, previsao)\n",
    "mse"
   ]
  },
  {
   "cell_type": "markdown",
   "metadata": {},
   "source": [
    "### outro regressor"
   ]
  },
  {
   "cell_type": "markdown",
   "metadata": {},
   "source": [
    "notase um erro muito grande, isso acontesse por que o dataset analisado foi gerado aleatoriamente, como observado pela anasile exploratoria,  \n",
    "o machine learning tem como objetivo buscar padroes, e como no caso não ouve padrão, é de se esperar que o computador não consiga o seu objetivo."
   ]
  }
 ],
 "metadata": {
  "kernelspec": {
   "display_name": ".venv",
   "language": "python",
   "name": "python3"
  },
  "language_info": {
   "codemirror_mode": {
    "name": "ipython",
    "version": 3
   },
   "file_extension": ".py",
   "mimetype": "text/x-python",
   "name": "python",
   "nbconvert_exporter": "python",
   "pygments_lexer": "ipython3",
   "version": "3.12.3"
  }
 },
 "nbformat": 4,
 "nbformat_minor": 2
}
